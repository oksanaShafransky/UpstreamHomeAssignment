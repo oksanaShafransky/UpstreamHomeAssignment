{
 "cells": [
  {
   "cell_type": "code",
   "execution_count": 37,
   "metadata": {
    "collapsed": true,
    "ExecuteTime": {
     "start_time": "2023-05-06T13:19:10.456481Z",
     "end_time": "2023-05-06T13:19:10.460105Z"
    }
   },
   "outputs": [
    {
     "data": {
      "text/plain": "'C:\\\\Users\\\\User\\\\Documents\\\\oksana\\\\UpstreamHomeAssignment'"
     },
     "execution_count": 37,
     "metadata": {},
     "output_type": "execute_result"
    }
   ],
   "source": [
    "import os\n",
    "os.getcwd()"
   ]
  },
  {
   "cell_type": "code",
   "execution_count": 45,
   "outputs": [
    {
     "name": "stdout",
     "output_type": "stream",
     "text": [
      "C:\\Users\\User\\Documents\\oksana\\UpstreamHomeAssignment\\data\\raw_data\n"
     ]
    }
   ],
   "source": [
    "import pandas as pd\n",
    "from os.path import abspath\n",
    "raw_data_path = abspath('.\\data\\\\raw_data')\n",
    "normalized_data_path = abspath('.\\data\\\\normalized_data')\n",
    "vehicle_raw_df = pd.read_parquet(raw_data_path, engine='pyarrow')\n",
    "vehicle_normalized_df = pd.read_parquet(normalized_data_path, engine='pyarrow')\n",
    "print(raw_data_path)"
   ],
   "metadata": {
    "collapsed": false,
    "ExecuteTime": {
     "start_time": "2023-05-06T13:21:41.806689Z",
     "end_time": "2023-05-06T13:21:41.881312Z"
    }
   }
  },
  {
   "cell_type": "code",
   "execution_count": 46,
   "outputs": [
    {
     "data": {
      "text/plain": "                     vin  manufacturer  year        model  latitude   \n0      4TAPN62N0TZ087521        Toyota  1996       Tacoma     42.17  \\\n1      SCFBB03B07GC02942  Aston Martin  2007   V8 Vantage     37.97   \n2                   None        Toyota  1996       Tacoma     45.74   \n3      WVWPH63B63E455188    Volkswagen  2003       Passat     39.02   \n4      SCFBB03B07GC02942  Aston Martin  2007   V8 Vantage     42.16   \n...                  ...           ...   ...          ...       ...   \n79995  ZHWGE11S04LA00780   Lamborghini  2004     Gallardo     46.42   \n79996  ZFFEW58A870157169       Ferrari  2007         F430     37.62   \n79997  3C3CFFJH9DT711213          Fiat  2013          500     44.53   \n79998  1FMYU96H95KD42711          Ford  2005       Escape     34.12   \n79999  4TAPN62N0TZ087521        Toyota  1996       Tacoma     45.76   \n\n       longitude      timestamp  velocity frontLeftDoorState wipersState   \n0        -111.38  1683367591861        50           UNLOCKED        True  \\\n1        -101.82  1683367384876         0               None        True   \n2         -78.59  1683367399918         0               None        True   \n3         -88.73  1683367559872       130             LOCKED        True   \n4         -94.98  1683367270827       100               None        True   \n...          ...            ...       ...                ...         ...   \n79995     -88.08  1683365423367       100               None       False   \n79996     -87.50  1683365551375       120           UNLOCKED       False   \n79997     -98.40  1683366024373         0           UNLOCKED       False   \n79998    -105.13  1683365352368        90               None       False   \n79999     -86.71  1683365885371        90               None       False   \n\n      gearPosition driverSeatbeltState                      ts        date   \n0                2              LOCKED 2023-05-06 10:06:31.861  2023-05-06  \\\n1                3              LOCKED 2023-05-06 10:03:04.876  2023-05-06   \n2                5              LOCKED 2023-05-06 10:03:19.918  2023-05-06   \n3                3              LOCKED 2023-05-06 10:05:59.872  2023-05-06   \n4                5              LOCKED 2023-05-06 10:01:10.827  2023-05-06   \n...            ...                 ...                     ...         ...   \n79995            2              LOCKED 2023-05-06 09:30:23.367  2023-05-06   \n79996            5              LOCKED 2023-05-06 09:32:31.375  2023-05-06   \n79997            1              LOCKED 2023-05-06 09:40:24.373  2023-05-06   \n79998         None              LOCKED 2023-05-06 09:29:12.368  2023-05-06   \n79999         None              LOCKED 2023-05-06 09:38:05.371  2023-05-06   \n\n      hour  \n0       10  \n1       10  \n2       10  \n3       10  \n4       10  \n...    ...  \n79995    9  \n79996    9  \n79997    9  \n79998    9  \n79999    9  \n\n[80000 rows x 15 columns]",
      "text/html": "<div>\n<style scoped>\n    .dataframe tbody tr th:only-of-type {\n        vertical-align: middle;\n    }\n\n    .dataframe tbody tr th {\n        vertical-align: top;\n    }\n\n    .dataframe thead th {\n        text-align: right;\n    }\n</style>\n<table border=\"1\" class=\"dataframe\">\n  <thead>\n    <tr style=\"text-align: right;\">\n      <th></th>\n      <th>vin</th>\n      <th>manufacturer</th>\n      <th>year</th>\n      <th>model</th>\n      <th>latitude</th>\n      <th>longitude</th>\n      <th>timestamp</th>\n      <th>velocity</th>\n      <th>frontLeftDoorState</th>\n      <th>wipersState</th>\n      <th>gearPosition</th>\n      <th>driverSeatbeltState</th>\n      <th>ts</th>\n      <th>date</th>\n      <th>hour</th>\n    </tr>\n  </thead>\n  <tbody>\n    <tr>\n      <th>0</th>\n      <td>4TAPN62N0TZ087521</td>\n      <td>Toyota</td>\n      <td>1996</td>\n      <td>Tacoma</td>\n      <td>42.17</td>\n      <td>-111.38</td>\n      <td>1683367591861</td>\n      <td>50</td>\n      <td>UNLOCKED</td>\n      <td>True</td>\n      <td>2</td>\n      <td>LOCKED</td>\n      <td>2023-05-06 10:06:31.861</td>\n      <td>2023-05-06</td>\n      <td>10</td>\n    </tr>\n    <tr>\n      <th>1</th>\n      <td>SCFBB03B07GC02942</td>\n      <td>Aston Martin</td>\n      <td>2007</td>\n      <td>V8 Vantage</td>\n      <td>37.97</td>\n      <td>-101.82</td>\n      <td>1683367384876</td>\n      <td>0</td>\n      <td>None</td>\n      <td>True</td>\n      <td>3</td>\n      <td>LOCKED</td>\n      <td>2023-05-06 10:03:04.876</td>\n      <td>2023-05-06</td>\n      <td>10</td>\n    </tr>\n    <tr>\n      <th>2</th>\n      <td>None</td>\n      <td>Toyota</td>\n      <td>1996</td>\n      <td>Tacoma</td>\n      <td>45.74</td>\n      <td>-78.59</td>\n      <td>1683367399918</td>\n      <td>0</td>\n      <td>None</td>\n      <td>True</td>\n      <td>5</td>\n      <td>LOCKED</td>\n      <td>2023-05-06 10:03:19.918</td>\n      <td>2023-05-06</td>\n      <td>10</td>\n    </tr>\n    <tr>\n      <th>3</th>\n      <td>WVWPH63B63E455188</td>\n      <td>Volkswagen</td>\n      <td>2003</td>\n      <td>Passat</td>\n      <td>39.02</td>\n      <td>-88.73</td>\n      <td>1683367559872</td>\n      <td>130</td>\n      <td>LOCKED</td>\n      <td>True</td>\n      <td>3</td>\n      <td>LOCKED</td>\n      <td>2023-05-06 10:05:59.872</td>\n      <td>2023-05-06</td>\n      <td>10</td>\n    </tr>\n    <tr>\n      <th>4</th>\n      <td>SCFBB03B07GC02942</td>\n      <td>Aston Martin</td>\n      <td>2007</td>\n      <td>V8 Vantage</td>\n      <td>42.16</td>\n      <td>-94.98</td>\n      <td>1683367270827</td>\n      <td>100</td>\n      <td>None</td>\n      <td>True</td>\n      <td>5</td>\n      <td>LOCKED</td>\n      <td>2023-05-06 10:01:10.827</td>\n      <td>2023-05-06</td>\n      <td>10</td>\n    </tr>\n    <tr>\n      <th>...</th>\n      <td>...</td>\n      <td>...</td>\n      <td>...</td>\n      <td>...</td>\n      <td>...</td>\n      <td>...</td>\n      <td>...</td>\n      <td>...</td>\n      <td>...</td>\n      <td>...</td>\n      <td>...</td>\n      <td>...</td>\n      <td>...</td>\n      <td>...</td>\n      <td>...</td>\n    </tr>\n    <tr>\n      <th>79995</th>\n      <td>ZHWGE11S04LA00780</td>\n      <td>Lamborghini</td>\n      <td>2004</td>\n      <td>Gallardo</td>\n      <td>46.42</td>\n      <td>-88.08</td>\n      <td>1683365423367</td>\n      <td>100</td>\n      <td>None</td>\n      <td>False</td>\n      <td>2</td>\n      <td>LOCKED</td>\n      <td>2023-05-06 09:30:23.367</td>\n      <td>2023-05-06</td>\n      <td>9</td>\n    </tr>\n    <tr>\n      <th>79996</th>\n      <td>ZFFEW58A870157169</td>\n      <td>Ferrari</td>\n      <td>2007</td>\n      <td>F430</td>\n      <td>37.62</td>\n      <td>-87.50</td>\n      <td>1683365551375</td>\n      <td>120</td>\n      <td>UNLOCKED</td>\n      <td>False</td>\n      <td>5</td>\n      <td>LOCKED</td>\n      <td>2023-05-06 09:32:31.375</td>\n      <td>2023-05-06</td>\n      <td>9</td>\n    </tr>\n    <tr>\n      <th>79997</th>\n      <td>3C3CFFJH9DT711213</td>\n      <td>Fiat</td>\n      <td>2013</td>\n      <td>500</td>\n      <td>44.53</td>\n      <td>-98.40</td>\n      <td>1683366024373</td>\n      <td>0</td>\n      <td>UNLOCKED</td>\n      <td>False</td>\n      <td>1</td>\n      <td>LOCKED</td>\n      <td>2023-05-06 09:40:24.373</td>\n      <td>2023-05-06</td>\n      <td>9</td>\n    </tr>\n    <tr>\n      <th>79998</th>\n      <td>1FMYU96H95KD42711</td>\n      <td>Ford</td>\n      <td>2005</td>\n      <td>Escape</td>\n      <td>34.12</td>\n      <td>-105.13</td>\n      <td>1683365352368</td>\n      <td>90</td>\n      <td>None</td>\n      <td>False</td>\n      <td>None</td>\n      <td>LOCKED</td>\n      <td>2023-05-06 09:29:12.368</td>\n      <td>2023-05-06</td>\n      <td>9</td>\n    </tr>\n    <tr>\n      <th>79999</th>\n      <td>4TAPN62N0TZ087521</td>\n      <td>Toyota</td>\n      <td>1996</td>\n      <td>Tacoma</td>\n      <td>45.76</td>\n      <td>-86.71</td>\n      <td>1683365885371</td>\n      <td>90</td>\n      <td>None</td>\n      <td>False</td>\n      <td>None</td>\n      <td>LOCKED</td>\n      <td>2023-05-06 09:38:05.371</td>\n      <td>2023-05-06</td>\n      <td>9</td>\n    </tr>\n  </tbody>\n</table>\n<p>80000 rows × 15 columns</p>\n</div>"
     },
     "execution_count": 46,
     "metadata": {},
     "output_type": "execute_result"
    }
   ],
   "source": [
    "vehicle_raw_df"
   ],
   "metadata": {
    "collapsed": false,
    "ExecuteTime": {
     "start_time": "2023-05-06T13:21:48.344528Z",
     "end_time": "2023-05-06T13:21:48.348063Z"
    }
   }
  },
  {
   "cell_type": "code",
   "execution_count": 47,
   "outputs": [
    {
     "data": {
      "text/plain": "                    vin   manufacturer  year      model  latitude  longitude   \n6     1FMYU96H95KD42711           Ford  2005     Escape     41.72    -113.85  \\\n7     1FMYU96H95KD42711           Ford  2005     Escape     42.53    -119.72   \n16    9BWEL41J484018815     Volkswagen  2008       Golf     46.62     -81.23   \n17    JT2BG22KXW0164520         Toyota  1998      Camry     34.41    -114.86   \n21    WDBCB20AXEA063442  Mercedes Benz  1984  300 Class     47.66    -120.74   \n...                 ...            ...   ...        ...       ...        ...   \n9995  YV1CZ852051206734          Volvo  2005       XC90     35.94    -105.42   \n9996  3C3CFFJH9DT711213           Fiat  2013        500     36.11    -100.89   \n9997  WDBCB20AXEA063442  Mercedes Benz  1984  300 Class     40.73     -85.17   \n9998  9BWEL41J484018815     Volkswagen  2008       Golf     37.42     -88.61   \n9999  4T1BF1FK8FUB03575         Toyota  2015      Camry     41.56     -79.42   \n\n          timestamp  velocity frontLeftDoorState wipersState  gearPosition   \n6     1683368062764        60           UNLOCKED        None             1  \\\n7     1683368070764         0             LOCKED        True             1   \n16    1683367273762        40           UNLOCKED        True             3   \n17    1683367238759         0             LOCKED        True             3   \n21    1683367665762        80             LOCKED        True             1   \n...             ...       ...                ...         ...           ...   \n9995  1683366642098       130               None       False             6   \n9996  1683366427101        90           UNLOCKED       False             3   \n9997  1683367024099        60           UNLOCKED       False             5   \n9998  1683364381106        80               None       False             3   \n9999  1683365856105       450               None       False             6   \n\n     driverSeatbeltState                      ts        date hour  \n6                   None 2023-05-06 10:14:22.764  2023-05-06   10  \n7                   None 2023-05-06 10:14:30.764  2023-05-06   10  \n16                LOCKED 2023-05-06 10:01:13.762  2023-05-06   10  \n17                LOCKED 2023-05-06 10:00:38.759  2023-05-06   10  \n21                LOCKED 2023-05-06 10:07:45.762  2023-05-06   10  \n...                  ...                     ...         ...  ...  \n9995              LOCKED 2023-05-06 09:50:42.098  2023-05-06    9  \n9996              LOCKED 2023-05-06 09:47:07.101  2023-05-06    9  \n9997                None 2023-05-06 09:57:04.099  2023-05-06    9  \n9998              LOCKED 2023-05-06 09:13:01.106  2023-05-06    9  \n9999              LOCKED 2023-05-06 09:37:36.105  2023-05-06    9  \n\n[57368 rows x 15 columns]",
      "text/html": "<div>\n<style scoped>\n    .dataframe tbody tr th:only-of-type {\n        vertical-align: middle;\n    }\n\n    .dataframe tbody tr th {\n        vertical-align: top;\n    }\n\n    .dataframe thead th {\n        text-align: right;\n    }\n</style>\n<table border=\"1\" class=\"dataframe\">\n  <thead>\n    <tr style=\"text-align: right;\">\n      <th></th>\n      <th>vin</th>\n      <th>manufacturer</th>\n      <th>year</th>\n      <th>model</th>\n      <th>latitude</th>\n      <th>longitude</th>\n      <th>timestamp</th>\n      <th>velocity</th>\n      <th>frontLeftDoorState</th>\n      <th>wipersState</th>\n      <th>gearPosition</th>\n      <th>driverSeatbeltState</th>\n      <th>ts</th>\n      <th>date</th>\n      <th>hour</th>\n    </tr>\n  </thead>\n  <tbody>\n    <tr>\n      <th>6</th>\n      <td>1FMYU96H95KD42711</td>\n      <td>Ford</td>\n      <td>2005</td>\n      <td>Escape</td>\n      <td>41.72</td>\n      <td>-113.85</td>\n      <td>1683368062764</td>\n      <td>60</td>\n      <td>UNLOCKED</td>\n      <td>None</td>\n      <td>1</td>\n      <td>None</td>\n      <td>2023-05-06 10:14:22.764</td>\n      <td>2023-05-06</td>\n      <td>10</td>\n    </tr>\n    <tr>\n      <th>7</th>\n      <td>1FMYU96H95KD42711</td>\n      <td>Ford</td>\n      <td>2005</td>\n      <td>Escape</td>\n      <td>42.53</td>\n      <td>-119.72</td>\n      <td>1683368070764</td>\n      <td>0</td>\n      <td>LOCKED</td>\n      <td>True</td>\n      <td>1</td>\n      <td>None</td>\n      <td>2023-05-06 10:14:30.764</td>\n      <td>2023-05-06</td>\n      <td>10</td>\n    </tr>\n    <tr>\n      <th>16</th>\n      <td>9BWEL41J484018815</td>\n      <td>Volkswagen</td>\n      <td>2008</td>\n      <td>Golf</td>\n      <td>46.62</td>\n      <td>-81.23</td>\n      <td>1683367273762</td>\n      <td>40</td>\n      <td>UNLOCKED</td>\n      <td>True</td>\n      <td>3</td>\n      <td>LOCKED</td>\n      <td>2023-05-06 10:01:13.762</td>\n      <td>2023-05-06</td>\n      <td>10</td>\n    </tr>\n    <tr>\n      <th>17</th>\n      <td>JT2BG22KXW0164520</td>\n      <td>Toyota</td>\n      <td>1998</td>\n      <td>Camry</td>\n      <td>34.41</td>\n      <td>-114.86</td>\n      <td>1683367238759</td>\n      <td>0</td>\n      <td>LOCKED</td>\n      <td>True</td>\n      <td>3</td>\n      <td>LOCKED</td>\n      <td>2023-05-06 10:00:38.759</td>\n      <td>2023-05-06</td>\n      <td>10</td>\n    </tr>\n    <tr>\n      <th>21</th>\n      <td>WDBCB20AXEA063442</td>\n      <td>Mercedes Benz</td>\n      <td>1984</td>\n      <td>300 Class</td>\n      <td>47.66</td>\n      <td>-120.74</td>\n      <td>1683367665762</td>\n      <td>80</td>\n      <td>LOCKED</td>\n      <td>True</td>\n      <td>1</td>\n      <td>LOCKED</td>\n      <td>2023-05-06 10:07:45.762</td>\n      <td>2023-05-06</td>\n      <td>10</td>\n    </tr>\n    <tr>\n      <th>...</th>\n      <td>...</td>\n      <td>...</td>\n      <td>...</td>\n      <td>...</td>\n      <td>...</td>\n      <td>...</td>\n      <td>...</td>\n      <td>...</td>\n      <td>...</td>\n      <td>...</td>\n      <td>...</td>\n      <td>...</td>\n      <td>...</td>\n      <td>...</td>\n      <td>...</td>\n    </tr>\n    <tr>\n      <th>9995</th>\n      <td>YV1CZ852051206734</td>\n      <td>Volvo</td>\n      <td>2005</td>\n      <td>XC90</td>\n      <td>35.94</td>\n      <td>-105.42</td>\n      <td>1683366642098</td>\n      <td>130</td>\n      <td>None</td>\n      <td>False</td>\n      <td>6</td>\n      <td>LOCKED</td>\n      <td>2023-05-06 09:50:42.098</td>\n      <td>2023-05-06</td>\n      <td>9</td>\n    </tr>\n    <tr>\n      <th>9996</th>\n      <td>3C3CFFJH9DT711213</td>\n      <td>Fiat</td>\n      <td>2013</td>\n      <td>500</td>\n      <td>36.11</td>\n      <td>-100.89</td>\n      <td>1683366427101</td>\n      <td>90</td>\n      <td>UNLOCKED</td>\n      <td>False</td>\n      <td>3</td>\n      <td>LOCKED</td>\n      <td>2023-05-06 09:47:07.101</td>\n      <td>2023-05-06</td>\n      <td>9</td>\n    </tr>\n    <tr>\n      <th>9997</th>\n      <td>WDBCB20AXEA063442</td>\n      <td>Mercedes Benz</td>\n      <td>1984</td>\n      <td>300 Class</td>\n      <td>40.73</td>\n      <td>-85.17</td>\n      <td>1683367024099</td>\n      <td>60</td>\n      <td>UNLOCKED</td>\n      <td>False</td>\n      <td>5</td>\n      <td>None</td>\n      <td>2023-05-06 09:57:04.099</td>\n      <td>2023-05-06</td>\n      <td>9</td>\n    </tr>\n    <tr>\n      <th>9998</th>\n      <td>9BWEL41J484018815</td>\n      <td>Volkswagen</td>\n      <td>2008</td>\n      <td>Golf</td>\n      <td>37.42</td>\n      <td>-88.61</td>\n      <td>1683364381106</td>\n      <td>80</td>\n      <td>None</td>\n      <td>False</td>\n      <td>3</td>\n      <td>LOCKED</td>\n      <td>2023-05-06 09:13:01.106</td>\n      <td>2023-05-06</td>\n      <td>9</td>\n    </tr>\n    <tr>\n      <th>9999</th>\n      <td>4T1BF1FK8FUB03575</td>\n      <td>Toyota</td>\n      <td>2015</td>\n      <td>Camry</td>\n      <td>41.56</td>\n      <td>-79.42</td>\n      <td>1683365856105</td>\n      <td>450</td>\n      <td>None</td>\n      <td>False</td>\n      <td>6</td>\n      <td>LOCKED</td>\n      <td>2023-05-06 09:37:36.105</td>\n      <td>2023-05-06</td>\n      <td>9</td>\n    </tr>\n  </tbody>\n</table>\n<p>57368 rows × 15 columns</p>\n</div>"
     },
     "execution_count": 47,
     "metadata": {},
     "output_type": "execute_result"
    }
   ],
   "source": [
    "vehicle_normalized_df"
   ],
   "metadata": {
    "collapsed": false,
    "ExecuteTime": {
     "start_time": "2023-05-06T13:21:55.767318Z",
     "end_time": "2023-05-06T13:21:55.789109Z"
    }
   }
  },
  {
   "cell_type": "code",
   "execution_count": 48,
   "outputs": [
    {
     "data": {
      "text/plain": "                  vin  last_reported_timestamp front_left_door_state   \n0   1C4NJDBB0GD610265            1683368251341              UNLOCKED  \\\n1   1D3HW58J16S586904            1683368252355              UNLOCKED   \n2   1FMYU96H95KD42711            1683368237340                LOCKED   \n3   1G4AP6949BX114240            1683368245340              UNLOCKED   \n4   3C3CFFJH9DT711213            1683368252363              UNLOCKED   \n5   4T1BF1FK8FUB03575            1683368245363                LOCKED   \n6   4TAPN62N0TZ087521            1683368244365              UNLOCKED   \n7   9BWEL41J484018815            1683368249339                LOCKED   \n8   JN1CV6FH0A0017612            1683368222340              UNLOCKED   \n9   JT2BG22KXW0164520            1683368252347              UNLOCKED   \n10  JTHBN36F665857215            1683368251355                LOCKED   \n11  JTMKF4DV0A5016322            1683368246343              UNLOCKED   \n12  KMHFC46F87A211273            1683368249343              UNLOCKED   \n13  SAJAD03P25FN31904            1683368247360              UNLOCKED   \n14  SCFBB03B07GC02942            1683368236366              UNLOCKED   \n15  WDBCB20AXEA063442            1683368251365                LOCKED   \n16  WVWHP9AN8AE560303            1683368248361                LOCKED   \n17  WVWPH63B63E455188            1683368219355                LOCKED   \n18  YV1CZ852051206734            1683368251363              UNLOCKED   \n19  ZARBA5642K1063245            1683368243365                LOCKED   \n20  ZFFEW58A870157169            1683368249338              UNLOCKED   \n21  ZHWGE11S04LA00780            1683368246343              UNLOCKED   \n\n   wipers_state  \n0         False  \n1         False  \n2         False  \n3         False  \n4         False  \n5         False  \n6         False  \n7         False  \n8         False  \n9         False  \n10        False  \n11        False  \n12        False  \n13        False  \n14        False  \n15        False  \n16        False  \n17        False  \n18        False  \n19        False  \n20        False  \n21        False  ",
      "text/html": "<div>\n<style scoped>\n    .dataframe tbody tr th:only-of-type {\n        vertical-align: middle;\n    }\n\n    .dataframe tbody tr th {\n        vertical-align: top;\n    }\n\n    .dataframe thead th {\n        text-align: right;\n    }\n</style>\n<table border=\"1\" class=\"dataframe\">\n  <thead>\n    <tr style=\"text-align: right;\">\n      <th></th>\n      <th>vin</th>\n      <th>last_reported_timestamp</th>\n      <th>front_left_door_state</th>\n      <th>wipers_state</th>\n    </tr>\n  </thead>\n  <tbody>\n    <tr>\n      <th>0</th>\n      <td>1C4NJDBB0GD610265</td>\n      <td>1683368251341</td>\n      <td>UNLOCKED</td>\n      <td>False</td>\n    </tr>\n    <tr>\n      <th>1</th>\n      <td>1D3HW58J16S586904</td>\n      <td>1683368252355</td>\n      <td>UNLOCKED</td>\n      <td>False</td>\n    </tr>\n    <tr>\n      <th>2</th>\n      <td>1FMYU96H95KD42711</td>\n      <td>1683368237340</td>\n      <td>LOCKED</td>\n      <td>False</td>\n    </tr>\n    <tr>\n      <th>3</th>\n      <td>1G4AP6949BX114240</td>\n      <td>1683368245340</td>\n      <td>UNLOCKED</td>\n      <td>False</td>\n    </tr>\n    <tr>\n      <th>4</th>\n      <td>3C3CFFJH9DT711213</td>\n      <td>1683368252363</td>\n      <td>UNLOCKED</td>\n      <td>False</td>\n    </tr>\n    <tr>\n      <th>5</th>\n      <td>4T1BF1FK8FUB03575</td>\n      <td>1683368245363</td>\n      <td>LOCKED</td>\n      <td>False</td>\n    </tr>\n    <tr>\n      <th>6</th>\n      <td>4TAPN62N0TZ087521</td>\n      <td>1683368244365</td>\n      <td>UNLOCKED</td>\n      <td>False</td>\n    </tr>\n    <tr>\n      <th>7</th>\n      <td>9BWEL41J484018815</td>\n      <td>1683368249339</td>\n      <td>LOCKED</td>\n      <td>False</td>\n    </tr>\n    <tr>\n      <th>8</th>\n      <td>JN1CV6FH0A0017612</td>\n      <td>1683368222340</td>\n      <td>UNLOCKED</td>\n      <td>False</td>\n    </tr>\n    <tr>\n      <th>9</th>\n      <td>JT2BG22KXW0164520</td>\n      <td>1683368252347</td>\n      <td>UNLOCKED</td>\n      <td>False</td>\n    </tr>\n    <tr>\n      <th>10</th>\n      <td>JTHBN36F665857215</td>\n      <td>1683368251355</td>\n      <td>LOCKED</td>\n      <td>False</td>\n    </tr>\n    <tr>\n      <th>11</th>\n      <td>JTMKF4DV0A5016322</td>\n      <td>1683368246343</td>\n      <td>UNLOCKED</td>\n      <td>False</td>\n    </tr>\n    <tr>\n      <th>12</th>\n      <td>KMHFC46F87A211273</td>\n      <td>1683368249343</td>\n      <td>UNLOCKED</td>\n      <td>False</td>\n    </tr>\n    <tr>\n      <th>13</th>\n      <td>SAJAD03P25FN31904</td>\n      <td>1683368247360</td>\n      <td>UNLOCKED</td>\n      <td>False</td>\n    </tr>\n    <tr>\n      <th>14</th>\n      <td>SCFBB03B07GC02942</td>\n      <td>1683368236366</td>\n      <td>UNLOCKED</td>\n      <td>False</td>\n    </tr>\n    <tr>\n      <th>15</th>\n      <td>WDBCB20AXEA063442</td>\n      <td>1683368251365</td>\n      <td>LOCKED</td>\n      <td>False</td>\n    </tr>\n    <tr>\n      <th>16</th>\n      <td>WVWHP9AN8AE560303</td>\n      <td>1683368248361</td>\n      <td>LOCKED</td>\n      <td>False</td>\n    </tr>\n    <tr>\n      <th>17</th>\n      <td>WVWPH63B63E455188</td>\n      <td>1683368219355</td>\n      <td>LOCKED</td>\n      <td>False</td>\n    </tr>\n    <tr>\n      <th>18</th>\n      <td>YV1CZ852051206734</td>\n      <td>1683368251363</td>\n      <td>UNLOCKED</td>\n      <td>False</td>\n    </tr>\n    <tr>\n      <th>19</th>\n      <td>ZARBA5642K1063245</td>\n      <td>1683368243365</td>\n      <td>LOCKED</td>\n      <td>False</td>\n    </tr>\n    <tr>\n      <th>20</th>\n      <td>ZFFEW58A870157169</td>\n      <td>1683368249338</td>\n      <td>UNLOCKED</td>\n      <td>False</td>\n    </tr>\n    <tr>\n      <th>21</th>\n      <td>ZHWGE11S04LA00780</td>\n      <td>1683368246343</td>\n      <td>UNLOCKED</td>\n      <td>False</td>\n    </tr>\n  </tbody>\n</table>\n</div>"
     },
     "execution_count": 48,
     "metadata": {},
     "output_type": "execute_result"
    }
   ],
   "source": [
    "#generate_vin_last_state_report\n",
    "vin_last_state_df = vehicle_normalized_df.sort_values(\"timestamp\").groupby(\"vin\", as_index=False).last()\n",
    "vin_last_state_df = vin_last_state_df.dropna(subset=['frontLeftDoorState', 'wipersState'])\n",
    "vin_last_state_df = vin_last_state_df.rename(columns={'timestamp':'last_reported_timestamp',\n",
    "                                                          'frontLeftDoorState':'front_left_door_state',\n",
    "                                                          'wipersState':'wipers_state'})\n",
    "vin_last_state_df[['vin','last_reported_timestamp','front_left_door_state','wipers_state']]"
   ],
   "metadata": {
    "collapsed": false,
    "ExecuteTime": {
     "start_time": "2023-05-06T13:23:09.051997Z",
     "end_time": "2023-05-06T13:23:09.095363Z"
    }
   }
  },
  {
   "cell_type": "code",
   "execution_count": 49,
   "outputs": [
    {
     "data": {
      "text/plain": "                  vin        date hour  velocity\n10  4T1BF1FK8FUB03575  2023-05-06   10       450\n11  4T1BF1FK8FUB03575  2023-05-06    9       450\n1   1C4NJDBB0GD610265  2023-05-06    9       190\n2   1D3HW58J16S586904  2023-05-06   10       190\n3   1D3HW58J16S586904  2023-05-06    9       190\n5   1FMYU96H95KD42711  2023-05-06    9       190\n7   1G4AP6949BX114240  2023-05-06    9       190\n8   3C3CFFJH9DT711213  2023-05-06   10       190\n9   3C3CFFJH9DT711213  2023-05-06    9       190\n13  4TAPN62N0TZ087521  2023-05-06    9       190",
      "text/html": "<div>\n<style scoped>\n    .dataframe tbody tr th:only-of-type {\n        vertical-align: middle;\n    }\n\n    .dataframe tbody tr th {\n        vertical-align: top;\n    }\n\n    .dataframe thead th {\n        text-align: right;\n    }\n</style>\n<table border=\"1\" class=\"dataframe\">\n  <thead>\n    <tr style=\"text-align: right;\">\n      <th></th>\n      <th>vin</th>\n      <th>date</th>\n      <th>hour</th>\n      <th>velocity</th>\n    </tr>\n  </thead>\n  <tbody>\n    <tr>\n      <th>10</th>\n      <td>4T1BF1FK8FUB03575</td>\n      <td>2023-05-06</td>\n      <td>10</td>\n      <td>450</td>\n    </tr>\n    <tr>\n      <th>11</th>\n      <td>4T1BF1FK8FUB03575</td>\n      <td>2023-05-06</td>\n      <td>9</td>\n      <td>450</td>\n    </tr>\n    <tr>\n      <th>1</th>\n      <td>1C4NJDBB0GD610265</td>\n      <td>2023-05-06</td>\n      <td>9</td>\n      <td>190</td>\n    </tr>\n    <tr>\n      <th>2</th>\n      <td>1D3HW58J16S586904</td>\n      <td>2023-05-06</td>\n      <td>10</td>\n      <td>190</td>\n    </tr>\n    <tr>\n      <th>3</th>\n      <td>1D3HW58J16S586904</td>\n      <td>2023-05-06</td>\n      <td>9</td>\n      <td>190</td>\n    </tr>\n    <tr>\n      <th>5</th>\n      <td>1FMYU96H95KD42711</td>\n      <td>2023-05-06</td>\n      <td>9</td>\n      <td>190</td>\n    </tr>\n    <tr>\n      <th>7</th>\n      <td>1G4AP6949BX114240</td>\n      <td>2023-05-06</td>\n      <td>9</td>\n      <td>190</td>\n    </tr>\n    <tr>\n      <th>8</th>\n      <td>3C3CFFJH9DT711213</td>\n      <td>2023-05-06</td>\n      <td>10</td>\n      <td>190</td>\n    </tr>\n    <tr>\n      <th>9</th>\n      <td>3C3CFFJH9DT711213</td>\n      <td>2023-05-06</td>\n      <td>9</td>\n      <td>190</td>\n    </tr>\n    <tr>\n      <th>13</th>\n      <td>4TAPN62N0TZ087521</td>\n      <td>2023-05-06</td>\n      <td>9</td>\n      <td>190</td>\n    </tr>\n  </tbody>\n</table>\n</div>"
     },
     "execution_count": 49,
     "metadata": {},
     "output_type": "execute_result"
    }
   ],
   "source": [
    "#generate_top_fastest_vehicles_report\n",
    "vehicle_df_grouped = vehicle_normalized_df.groupby(['vin','date','hour'], as_index=False)['velocity'].max()\n",
    "vehicle_df_grouped.nlargest(n=10, columns=['velocity'])"
   ],
   "metadata": {
    "collapsed": false,
    "ExecuteTime": {
     "start_time": "2023-05-06T13:24:10.620980Z",
     "end_time": "2023-05-06T13:24:10.668756Z"
    }
   }
  }
 ],
 "metadata": {
  "kernelspec": {
   "display_name": "Python 3",
   "language": "python",
   "name": "python3"
  },
  "language_info": {
   "codemirror_mode": {
    "name": "ipython",
    "version": 2
   },
   "file_extension": ".py",
   "mimetype": "text/x-python",
   "name": "python",
   "nbconvert_exporter": "python",
   "pygments_lexer": "ipython2",
   "version": "2.7.6"
  }
 },
 "nbformat": 4,
 "nbformat_minor": 0
}
